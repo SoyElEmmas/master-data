{
  "nbformat": 4,
  "nbformat_minor": 0,
  "metadata": {
    "colab": {
      "name": "4_feb_21_MDS_DevF.ipynb",
      "provenance": [],
      "authorship_tag": "ABX9TyMCN4EsgUXgvUtS4xyRo1UO",
      "include_colab_link": true
    },
    "kernelspec": {
      "name": "python3",
      "display_name": "Python 3"
    }
  },
  "cells": [
    {
      "cell_type": "markdown",
      "metadata": {
        "id": "view-in-github",
        "colab_type": "text"
      },
      "source": [
        "<a href=\"https://colab.research.google.com/github/SoyElEmmas/master-data/blob/main/4_feb_21_MDS_DevF.ipynb\" target=\"_parent\"><img src=\"https://colab.research.google.com/assets/colab-badge.svg\" alt=\"Open In Colab\"/></a>"
      ]
    },
    {
      "cell_type": "code",
      "metadata": {
        "colab": {
          "base_uri": "https://localhost:8080/"
        },
        "id": "AWkPQyCPzqeD",
        "outputId": "99d51a40-5466-46ca-ceb5-06f8eb0b753b"
      },
      "source": [
        "longitud = int(input(\"Ingresa la medida del lado del cuadrado: \"))\r\n",
        "area = longitud *longitud\r\n",
        "print(f\"El área del cuadrado es: {area}\")"
      ],
      "execution_count": 1,
      "outputs": [
        {
          "output_type": "stream",
          "text": [
            "Ingresa la medida del lado del cuadrado: 5\n",
            "El área del cuadrado es: 25\n"
          ],
          "name": "stdout"
        }
      ]
    }
  ]
}